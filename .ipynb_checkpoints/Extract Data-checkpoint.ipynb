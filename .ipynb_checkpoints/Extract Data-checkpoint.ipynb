{
 "cells": [
  {
   "cell_type": "code",
   "execution_count": 3,
   "metadata": {
    "collapsed": true
   },
   "outputs": [],
   "source": [
    "import pandas as pd\n",
    "from tabula import read_pdf_table\n",
    "import os"
   ]
  },
  {
   "cell_type": "code",
   "execution_count": null,
   "metadata": {
    "collapsed": true
   },
   "outputs": [],
   "source": [
    "df = read_pdf_table(\"Indore.pdf\", pages=\"3-5\")"
   ]
  },
  {
   "cell_type": "code",
   "execution_count": null,
   "metadata": {
    "collapsed": false
   },
   "outputs": [],
   "source": [
    "newdata = pd.DataFrame()"
   ]
  },
  {
   "cell_type": "code",
   "execution_count": null,
   "metadata": {
    "collapsed": false
   },
   "outputs": [],
   "source": [
    "newdata.iloc[0:26]"
   ]
  },
  {
   "cell_type": "code",
   "execution_count": null,
   "metadata": {
    "collapsed": false
   },
   "outputs": [],
   "source": [
    "newdata = newdata.dropna(axis=0)"
   ]
  },
  {
   "cell_type": "code",
   "execution_count": null,
   "metadata": {
    "collapsed": false
   },
   "outputs": [],
   "source": [
    "newdata.columns=[\"Indicators\", \"Urban Total\"]\n",
    "\n",
    "newdata[\"Urban\"] = newdata['Urban Total'].str.split(\" \",1).dropna(axis=0).apply(lambda x: x[0])\n",
    "newdata[\"Total\"] = newdata['Urban Total'].str.split(\" \",1).dropna(axis=0).apply(lambda x: x[1])\n",
    "\n",
    "#Exclude the rows with the Indicator banner which denotes a new page\n",
    "newdata = newdata[newdata['Indicators']!='Indicators']\n",
    "newdata=  newdata[newdata['Urban']!='Urban']\n",
    "\n",
    "#Remove Null values\n",
    "newdata = newdata.dropna(axis=0)\n",
    "newdata"
   ]
  },
  {
   "cell_type": "code",
   "execution_count": null,
   "metadata": {
    "collapsed": false
   },
   "outputs": [],
   "source": [
    "truncated_value_indices = [33,34,35,38,46,59,60]\n",
    "truncated_values=[\n",
    "    \"34. Registered pregnancies for which the mother received Mother and Child Protection(MCP) card (%)\",\n",
    "    \"35. Mothers who received postnatal care from a doctor/nurse/LHV/ANM/midwife/other health personnel within 2 days of delivery (%)\",\n",
    "    \"36. Mothers who received financial assistance under Janani Suraksha Yojana (JSY) for births delivered in an institution (%)\",\n",
    "    \"39. Children who received a health check after birth from a doctor/nurse/LHV/ANM/ midwife/other health personnel within 2 days of birth (%)\",\n",
    "    \"47. Children age 12-23 months fully immunized (BCG, measles, and 3 doses each of polio and DPT) (%)\",\n",
    "    \"60. Prevalence of symptoms of acute respiratory infection (ARI) in the last 2 weeks preceding the survey (%)\",\n",
    "    \"61. Children with fever or symptoms of ARI in the last 2 weeks preceding the survey taken to a health facility (%)\"\n",
    "]\n",
    "newdata[\"Indicators\"].iloc[truncated_value_indices] = truncated_values\n"
   ]
  },
  {
   "cell_type": "code",
   "execution_count": null,
   "metadata": {
    "collapsed": false
   },
   "outputs": [],
   "source": [
    "newdata[\"Urban\"] = newdata[\"Urban\"].str.strip(\"()\")\n",
    "newdata[\"Total\"] = newdata[\"Urban\"].str.strip(\"()\")"
   ]
  },
  {
   "cell_type": "code",
   "execution_count": null,
   "metadata": {
    "collapsed": false
   },
   "outputs": [],
   "source": [
    "\n",
    "newdata['Indicators'] = newdata['Indicators'].str.split(\" \",1).apply(lambda x: x[1])"
   ]
  },
  {
   "cell_type": "code",
   "execution_count": null,
   "metadata": {
    "collapsed": false
   },
   "outputs": [],
   "source": [
    "newdata.drop([\"Urban Total\"],axis=1, inplace=True)"
   ]
  },
  {
   "cell_type": "code",
   "execution_count": null,
   "metadata": {
    "collapsed": false
   },
   "outputs": [],
   "source": [
    "newdata"
   ]
  },
  {
   "cell_type": "code",
   "execution_count": null,
   "metadata": {
    "collapsed": false
   },
   "outputs": [],
   "source": [
    "newdata"
   ]
  },
  {
   "cell_type": "code",
   "execution_count": null,
   "metadata": {
    "collapsed": false
   },
   "outputs": [],
   "source": [
    "newdata[\"District\"] = \"Indore\"\n",
    "newdata[\"State\"] = \"Madhya Pradesh\"\n",
    "newdata=newdata[[\"State\",\"District\",\"Indicators\",\"Urban\",\"Total\"]]\n",
    "newdata.to_csv(\"Indore.csv\",index=False)"
   ]
  },
  {
   "cell_type": "code",
   "execution_count": null,
   "metadata": {
    "collapsed": false
   },
   "outputs": [],
   "source": [
    "newdata.iloc[60,:]"
   ]
  },
  {
   "cell_type": "code",
   "execution_count": 118,
   "metadata": {
    "collapsed": false
   },
   "outputs": [],
   "source": [
    "def parse_file(df,district,state,writefile):\n",
    "    newdata = pd.DataFrame(df[29:])\n",
    "    newdata = newdata.dropna(axis=0)\n",
    "    newdata.columns=[\"Indicators\", \"Type Total\"]\n",
    "    district_type=\"\"\n",
    "    \n",
    "    if \"Urban Total\" in list(newdata.iloc[:,1]):\n",
    "        district_type=\"Urban\"\n",
    "        newdata[\"Rural\"] = newdata[\"Type Total\"].dropna(axis=0).apply(lambda x: \"NA\")\n",
    "        newdata[\"Urban\"] = newdata[\"Type Total\"].str.split(\" \").dropna(axis=0).apply(lambda x: x[0])\n",
    "    elif \"Rural Total\" in list(newdata.iloc[:,1]):\n",
    "        district_type=\"Rural\"\n",
    "        newdata[\"Urban\"] = newdata[\"Type Total\"].dropna(axis=0).apply(lambda x: \"NA\")\n",
    "        newdata[\"Rural\"] = newdata[\"Type Total\"].str.split(\" \").dropna(axis=0).apply(lambda x: x[0])\n",
    "    elif \"Urban Rural Total\" in list(newdata.iloc[:,1]):\n",
    "        district_type=\"Urban Rural\"\n",
    "        newdata[\"Urban\"] = newdata[\"Type Total\"].str.split(\" \").dropna(axis=0).apply(lambda x: x[0])\n",
    "        newdata[\"Rural\"] = newdata[\"Type Total\"].str.split(\" \").dropna(axis=0).apply(lambda x: x[1])\n",
    "    else:\n",
    "        return(\"Error\")\n",
    "    \n",
    "    newdata[\"Total\"] = newdata[\"Type Total\"].str.split(\" \").dropna(axis=0).apply(lambda x: x[-1])\n",
    "\n",
    "    #Exclude the rows with the Indicator banner which denotes a new page\n",
    "    newdata = newdata[newdata['Indicators']!='Indicators']\n",
    "    newdata=  newdata[newdata['Type Total']!=district_type + \" Total\"]\n",
    "\n",
    "    truncated_value_indices = [33,34,35,38,46,59,60]\n",
    "    truncated_values=[\n",
    "    \"34. Registered pregnancies for which the mother received Mother and Child Protection(MCP) card (%)\",\n",
    "    \"35. Mothers who received postnatal care from a doctor/nurse/LHV/ANM/midwife/other health personnel within 2 days of delivery (%)\",\n",
    "    \"36. Mothers who received financial assistance under Janani Suraksha Yojana (JSY) for births delivered in an institution (%)\",\n",
    "    \"39. Children who received a health check after birth from a doctor/nurse/LHV/ANM/ midwife/other health personnel within 2 days of birth (%)\",\n",
    "    \"47. Children age 12-23 months fully immunized (BCG, measles, and 3 doses each of polio and DPT) (%)\",\n",
    "    \"60. Prevalence of symptoms of acute respiratory infection (ARI) in the last 2 weeks preceding the survey (%)\",\n",
    "    \"61. Children with fever or symptoms of ARI in the last 2 weeks preceding the survey taken to a health facility (%)\"\n",
    "    ]\n",
    "    \n",
    "    #print(newdata.head())\n",
    "    #return\n",
    "    \n",
    "    newdata[\"Indicators\"].iloc[truncated_value_indices] = truncated_values\n",
    "    newdata[\"Urban\"] = newdata[\"Urban\"].str.strip(\"()\")\n",
    "    newdata[\"Rural\"] = newdata[\"Rural\"].str.strip(\"()\")\n",
    "    newdata[\"Total\"] = newdata[\"Total\"].str.strip(\"()\")\n",
    "    \n",
    "    newdata['Indicators'] = newdata['Indicators'].str.split(\" \",1).apply(lambda x: x[1])\n",
    "    newdata.drop([\"Type Total\"],axis=1, inplace=True)\n",
    "    newdata[\"District\"] = district\n",
    "    newdata[\"State\"] = state\n",
    "    newdata[\"DistrictType\"] = district_type\n",
    "    newdata=newdata[[\"State\",\"District\",\"DistrictType\", \"Indicators\",\"Urban\",\"Rural\", \"Total\"]]\n",
    "    with open(writefile, 'a') as f:\n",
    "        newdata.to_csv(f, header=False,index=False)\n",
    "    #return(newdata)"
   ]
  },
  {
   "cell_type": "code",
   "execution_count": 116,
   "metadata": {
    "collapsed": false
   },
   "outputs": [],
   "source": [
    "parse_file(indore,\"Indore\",\"Madhya Pradesh\",\"indore.csv\")"
   ]
  },
  {
   "cell_type": "code",
   "execution_count": 89,
   "metadata": {
    "collapsed": false
   },
   "outputs": [
    {
     "ename": "CalledProcessError",
     "evalue": "Command '['java', '-jar', '/Users/Jayant/anaconda/lib/python2.7/site-packages/tabula/tabula-0.9.1-jar-with-dependencies.jar', '--pages', '3-5', '--guess', 'Indore.pdf']' returned non-zero exit status 1",
     "output_type": "error",
     "traceback": [
      "\u001b[0;31m---------------------------------------------------------------------------\u001b[0m",
      "\u001b[0;31mCalledProcessError\u001b[0m                        Traceback (most recent call last)",
      "\u001b[0;32m<ipython-input-89-2de479c6c6cd>\u001b[0m in \u001b[0;36m<module>\u001b[0;34m()\u001b[0m\n\u001b[0;32m----> 1\u001b[0;31m \u001b[0mdf\u001b[0m \u001b[0;34m=\u001b[0m \u001b[0mread_pdf_table\u001b[0m\u001b[0;34m(\u001b[0m\u001b[0;34m\"Indore.pdf\"\u001b[0m\u001b[0;34m,\u001b[0m \u001b[0mpages\u001b[0m\u001b[0;34m=\u001b[0m\u001b[0;34m\"3-5\"\u001b[0m\u001b[0;34m)\u001b[0m\u001b[0;34m\u001b[0m\u001b[0m\n\u001b[0m",
      "\u001b[0;32m/Users/Jayant/anaconda/lib/python2.7/site-packages/tabula/wrapper.pyc\u001b[0m in \u001b[0;36mread_pdf_table\u001b[0;34m(input_path, options, pages, guess, area, spreadsheet, password, nospreadsheet, silent)\u001b[0m\n\u001b[1;32m     74\u001b[0m   output = subprocess.check_output(\n\u001b[1;32m     75\u001b[0m     \u001b[0margs\u001b[0m\u001b[0;34m,\u001b[0m\u001b[0;34m\u001b[0m\u001b[0m\n\u001b[0;32m---> 76\u001b[0;31m     stderr=subprocess.STDOUT)\n\u001b[0m\u001b[1;32m     77\u001b[0m \u001b[0;34m\u001b[0m\u001b[0m\n\u001b[1;32m     78\u001b[0m   \u001b[0;32mif\u001b[0m \u001b[0mlen\u001b[0m\u001b[0;34m(\u001b[0m\u001b[0moutput\u001b[0m\u001b[0;34m)\u001b[0m \u001b[0;34m==\u001b[0m \u001b[0;36m0\u001b[0m\u001b[0;34m:\u001b[0m\u001b[0;34m\u001b[0m\u001b[0m\n",
      "\u001b[0;32m/Users/Jayant/anaconda/lib/python2.7/subprocess.pyc\u001b[0m in \u001b[0;36mcheck_output\u001b[0;34m(*popenargs, **kwargs)\u001b[0m\n\u001b[1;32m    571\u001b[0m         \u001b[0;32mif\u001b[0m \u001b[0mcmd\u001b[0m \u001b[0;32mis\u001b[0m \u001b[0mNone\u001b[0m\u001b[0;34m:\u001b[0m\u001b[0;34m\u001b[0m\u001b[0m\n\u001b[1;32m    572\u001b[0m             \u001b[0mcmd\u001b[0m \u001b[0;34m=\u001b[0m \u001b[0mpopenargs\u001b[0m\u001b[0;34m[\u001b[0m\u001b[0;36m0\u001b[0m\u001b[0;34m]\u001b[0m\u001b[0;34m\u001b[0m\u001b[0m\n\u001b[0;32m--> 573\u001b[0;31m         \u001b[0;32mraise\u001b[0m \u001b[0mCalledProcessError\u001b[0m\u001b[0;34m(\u001b[0m\u001b[0mretcode\u001b[0m\u001b[0;34m,\u001b[0m \u001b[0mcmd\u001b[0m\u001b[0;34m,\u001b[0m \u001b[0moutput\u001b[0m\u001b[0;34m=\u001b[0m\u001b[0moutput\u001b[0m\u001b[0;34m)\u001b[0m\u001b[0;34m\u001b[0m\u001b[0m\n\u001b[0m\u001b[1;32m    574\u001b[0m     \u001b[0;32mreturn\u001b[0m \u001b[0moutput\u001b[0m\u001b[0;34m\u001b[0m\u001b[0m\n\u001b[1;32m    575\u001b[0m \u001b[0;34m\u001b[0m\u001b[0m\n",
      "\u001b[0;31mCalledProcessError\u001b[0m: Command '['java', '-jar', '/Users/Jayant/anaconda/lib/python2.7/site-packages/tabula/tabula-0.9.1-jar-with-dependencies.jar', '--pages', '3-5', '--guess', 'Indore.pdf']' returned non-zero exit status 1"
     ]
    }
   ],
   "source": [
    "df = read_pdf_table(\"Indore.pdf\", pages=\"3-5\")"
   ]
  },
  {
   "cell_type": "code",
   "execution_count": 119,
   "metadata": {
    "collapsed": false,
    "scrolled": false
   },
   "outputs": [],
   "source": [
    "files = [f for f in os.listdir('.') if os.path.isfile(f)]\n",
    "for f in files:\n",
    "    if f.endswith(\".pdf\"):\n",
    "        #print(f)\n",
    "        df=read_pdf_table(f,pages=\"3-5\")\n",
    "        parse_file(df,f[:-4],\"Madhya Pradesh\",\"healthdata.csv\")"
   ]
  },
  {
   "cell_type": "markdown",
   "metadata": {
    "collapsed": true
   },
   "source": [
    "\n",
    "## Lessons learnt while translating to entire dataset"
   ]
  },
  {
   "cell_type": "markdown",
   "metadata": {},
   "source": [
    "1. The current scheme had encoded only for Urban regions whereas in test set most districts were rural. Need to mitigate the risk.\n",
    "\n",
    "2. Despite tabula, the structure isn't consistent. Need to handle indicators spanning multiple lines. Did it manually currently"
   ]
  },
  {
   "cell_type": "code",
   "execution_count": 99,
   "metadata": {
    "collapsed": false
   },
   "outputs": [
    {
     "data": {
      "text/html": [
       "<div>\n",
       "<table border=\"1\" class=\"dataframe\">\n",
       "  <thead>\n",
       "    <tr style=\"text-align: right;\">\n",
       "      <th></th>\n",
       "      <th>Dec 07</th>\n",
       "      <th>2016 10:32:02 PM org.apache.pdfbox.util.PDFStreamEngine processOperator</th>\n",
       "    </tr>\n",
       "  </thead>\n",
       "  <tbody>\n",
       "    <tr>\n",
       "      <th>0</th>\n",
       "      <td>INFO: unsupported/disabled operation: BDC</td>\n",
       "      <td>NaN</td>\n",
       "    </tr>\n",
       "    <tr>\n",
       "      <th>1</th>\n",
       "      <td>Dec 07</td>\n",
       "      <td>2016 10:32:03 PM org.apache.pdfbox.util.PDFSt...</td>\n",
       "    </tr>\n",
       "    <tr>\n",
       "      <th>2</th>\n",
       "      <td>INFO: unsupported/disabled operation: EMC</td>\n",
       "      <td>NaN</td>\n",
       "    </tr>\n",
       "    <tr>\n",
       "      <th>3</th>\n",
       "      <td>Dec 07</td>\n",
       "      <td>2016 10:32:04 PM org.apache.pdfbox.util.PDFSt...</td>\n",
       "    </tr>\n",
       "    <tr>\n",
       "      <th>4</th>\n",
       "      <td>INFO: unsupported/disabled operation: BDC</td>\n",
       "      <td>NaN</td>\n",
       "    </tr>\n",
       "  </tbody>\n",
       "</table>\n",
       "</div>"
      ],
      "text/plain": [
       "                                      Dec 07  \\\n",
       "0  INFO: unsupported/disabled operation: BDC   \n",
       "1                                     Dec 07   \n",
       "2  INFO: unsupported/disabled operation: EMC   \n",
       "3                                     Dec 07   \n",
       "4  INFO: unsupported/disabled operation: BDC   \n",
       "\n",
       "   2016 10:32:02 PM org.apache.pdfbox.util.PDFStreamEngine processOperator  \n",
       "0                                                NaN                        \n",
       "1   2016 10:32:03 PM org.apache.pdfbox.util.PDFSt...                        \n",
       "2                                                NaN                        \n",
       "3   2016 10:32:04 PM org.apache.pdfbox.util.PDFSt...                        \n",
       "4                                                NaN                        "
      ]
     },
     "execution_count": 99,
     "metadata": {},
     "output_type": "execute_result"
    }
   ],
   "source": [
    "df.head()"
   ]
  },
  {
   "cell_type": "code",
   "execution_count": 100,
   "metadata": {
    "collapsed": false
   },
   "outputs": [
    {
     "name": "stdout",
     "output_type": "stream",
     "text": [
      "Rural\n"
     ]
    }
   ],
   "source": [
    "parse_file(df,\"Sagar\",\"Madhya Pradesh\",\"sagar.csv\")"
   ]
  },
  {
   "cell_type": "code",
   "execution_count": 108,
   "metadata": {
    "collapsed": false
   },
   "outputs": [
    {
     "name": "stdout",
     "output_type": "stream",
     "text": [
      "Rural\n"
     ]
    }
   ],
   "source": [
    "sagar = parse_file(df,\"Sagar\",\"Madhya Pradesh\",\"sagar.csv\")"
   ]
  },
  {
   "cell_type": "code",
   "execution_count": 110,
   "metadata": {
    "collapsed": false
   },
   "outputs": [
    {
     "ename": "ValueError",
     "evalue": "Index contains duplicate entries, cannot reshape",
     "output_type": "error",
     "traceback": [
      "\u001b[0;31m---------------------------------------------------------------------------\u001b[0m",
      "\u001b[0;31mValueError\u001b[0m                                Traceback (most recent call last)",
      "\u001b[0;32m<ipython-input-110-6d690dd57317>\u001b[0m in \u001b[0;36m<module>\u001b[0;34m()\u001b[0m\n\u001b[0;32m----> 1\u001b[0;31m \u001b[0msagar\u001b[0m\u001b[0;34m.\u001b[0m\u001b[0mpivot\u001b[0m\u001b[0;34m(\u001b[0m\u001b[0mindex\u001b[0m\u001b[0;34m=\u001b[0m \u001b[0;34m'District'\u001b[0m\u001b[0;34m,\u001b[0m\u001b[0mcolumns\u001b[0m\u001b[0;34m=\u001b[0m\u001b[0;34m'Indicators'\u001b[0m\u001b[0;34m,\u001b[0m\u001b[0mvalues\u001b[0m\u001b[0;34m=\u001b[0m\u001b[0;34m'Total'\u001b[0m\u001b[0;34m)\u001b[0m\u001b[0;34m\u001b[0m\u001b[0m\n\u001b[0m",
      "\u001b[0;32m/Users/Jayant/anaconda/lib/python2.7/site-packages/pandas/core/frame.pyc\u001b[0m in \u001b[0;36mpivot\u001b[0;34m(self, index, columns, values)\u001b[0m\n\u001b[1;32m   3825\u001b[0m         \"\"\"\n\u001b[1;32m   3826\u001b[0m         \u001b[0;32mfrom\u001b[0m \u001b[0mpandas\u001b[0m\u001b[0;34m.\u001b[0m\u001b[0mcore\u001b[0m\u001b[0;34m.\u001b[0m\u001b[0mreshape\u001b[0m \u001b[0;32mimport\u001b[0m \u001b[0mpivot\u001b[0m\u001b[0;34m\u001b[0m\u001b[0m\n\u001b[0;32m-> 3827\u001b[0;31m         \u001b[0;32mreturn\u001b[0m \u001b[0mpivot\u001b[0m\u001b[0;34m(\u001b[0m\u001b[0mself\u001b[0m\u001b[0;34m,\u001b[0m \u001b[0mindex\u001b[0m\u001b[0;34m=\u001b[0m\u001b[0mindex\u001b[0m\u001b[0;34m,\u001b[0m \u001b[0mcolumns\u001b[0m\u001b[0;34m=\u001b[0m\u001b[0mcolumns\u001b[0m\u001b[0;34m,\u001b[0m \u001b[0mvalues\u001b[0m\u001b[0;34m=\u001b[0m\u001b[0mvalues\u001b[0m\u001b[0;34m)\u001b[0m\u001b[0;34m\u001b[0m\u001b[0m\n\u001b[0m\u001b[1;32m   3828\u001b[0m \u001b[0;34m\u001b[0m\u001b[0m\n\u001b[1;32m   3829\u001b[0m     \u001b[0;32mdef\u001b[0m \u001b[0mstack\u001b[0m\u001b[0;34m(\u001b[0m\u001b[0mself\u001b[0m\u001b[0;34m,\u001b[0m \u001b[0mlevel\u001b[0m\u001b[0;34m=\u001b[0m\u001b[0;34m-\u001b[0m\u001b[0;36m1\u001b[0m\u001b[0;34m,\u001b[0m \u001b[0mdropna\u001b[0m\u001b[0;34m=\u001b[0m\u001b[0mTrue\u001b[0m\u001b[0;34m)\u001b[0m\u001b[0;34m:\u001b[0m\u001b[0;34m\u001b[0m\u001b[0m\n",
      "\u001b[0;32m/Users/Jayant/anaconda/lib/python2.7/site-packages/pandas/core/reshape.pyc\u001b[0m in \u001b[0;36mpivot\u001b[0;34m(self, index, columns, values)\u001b[0m\n\u001b[1;32m    328\u001b[0m         indexed = Series(self[values].values,\n\u001b[1;32m    329\u001b[0m                          index=MultiIndex.from_arrays([index, self[columns]]))\n\u001b[0;32m--> 330\u001b[0;31m         \u001b[0;32mreturn\u001b[0m \u001b[0mindexed\u001b[0m\u001b[0;34m.\u001b[0m\u001b[0munstack\u001b[0m\u001b[0;34m(\u001b[0m\u001b[0mcolumns\u001b[0m\u001b[0;34m)\u001b[0m\u001b[0;34m\u001b[0m\u001b[0m\n\u001b[0m\u001b[1;32m    331\u001b[0m \u001b[0;34m\u001b[0m\u001b[0m\n\u001b[1;32m    332\u001b[0m \u001b[0;34m\u001b[0m\u001b[0m\n",
      "\u001b[0;32m/Users/Jayant/anaconda/lib/python2.7/site-packages/pandas/core/series.pyc\u001b[0m in \u001b[0;36munstack\u001b[0;34m(self, level, fill_value)\u001b[0m\n\u001b[1;32m   2059\u001b[0m         \"\"\"\n\u001b[1;32m   2060\u001b[0m         \u001b[0;32mfrom\u001b[0m \u001b[0mpandas\u001b[0m\u001b[0;34m.\u001b[0m\u001b[0mcore\u001b[0m\u001b[0;34m.\u001b[0m\u001b[0mreshape\u001b[0m \u001b[0;32mimport\u001b[0m \u001b[0munstack\u001b[0m\u001b[0;34m\u001b[0m\u001b[0m\n\u001b[0;32m-> 2061\u001b[0;31m         \u001b[0;32mreturn\u001b[0m \u001b[0munstack\u001b[0m\u001b[0;34m(\u001b[0m\u001b[0mself\u001b[0m\u001b[0;34m,\u001b[0m \u001b[0mlevel\u001b[0m\u001b[0;34m,\u001b[0m \u001b[0mfill_value\u001b[0m\u001b[0;34m)\u001b[0m\u001b[0;34m\u001b[0m\u001b[0m\n\u001b[0m\u001b[1;32m   2062\u001b[0m \u001b[0;34m\u001b[0m\u001b[0m\n\u001b[1;32m   2063\u001b[0m     \u001b[0;31m# ----------------------------------------------------------------------\u001b[0m\u001b[0;34m\u001b[0m\u001b[0;34m\u001b[0m\u001b[0m\n",
      "\u001b[0;32m/Users/Jayant/anaconda/lib/python2.7/site-packages/pandas/core/reshape.pyc\u001b[0m in \u001b[0;36munstack\u001b[0;34m(obj, level, fill_value)\u001b[0m\n\u001b[1;32m    403\u001b[0m     \u001b[0;32melse\u001b[0m\u001b[0;34m:\u001b[0m\u001b[0;34m\u001b[0m\u001b[0m\n\u001b[1;32m    404\u001b[0m         unstacker = _Unstacker(obj.values, obj.index, level=level,\n\u001b[0;32m--> 405\u001b[0;31m                                fill_value=fill_value)\n\u001b[0m\u001b[1;32m    406\u001b[0m         \u001b[0;32mreturn\u001b[0m \u001b[0munstacker\u001b[0m\u001b[0;34m.\u001b[0m\u001b[0mget_result\u001b[0m\u001b[0;34m(\u001b[0m\u001b[0;34m)\u001b[0m\u001b[0;34m\u001b[0m\u001b[0m\n\u001b[1;32m    407\u001b[0m \u001b[0;34m\u001b[0m\u001b[0m\n",
      "\u001b[0;32m/Users/Jayant/anaconda/lib/python2.7/site-packages/pandas/core/reshape.pyc\u001b[0m in \u001b[0;36m__init__\u001b[0;34m(self, values, index, level, value_columns, fill_value)\u001b[0m\n\u001b[1;32m     97\u001b[0m \u001b[0;34m\u001b[0m\u001b[0m\n\u001b[1;32m     98\u001b[0m         \u001b[0mself\u001b[0m\u001b[0;34m.\u001b[0m\u001b[0m_make_sorted_values_labels\u001b[0m\u001b[0;34m(\u001b[0m\u001b[0;34m)\u001b[0m\u001b[0;34m\u001b[0m\u001b[0m\n\u001b[0;32m---> 99\u001b[0;31m         \u001b[0mself\u001b[0m\u001b[0;34m.\u001b[0m\u001b[0m_make_selectors\u001b[0m\u001b[0;34m(\u001b[0m\u001b[0;34m)\u001b[0m\u001b[0;34m\u001b[0m\u001b[0m\n\u001b[0m\u001b[1;32m    100\u001b[0m \u001b[0;34m\u001b[0m\u001b[0m\n\u001b[1;32m    101\u001b[0m     \u001b[0;32mdef\u001b[0m \u001b[0m_make_sorted_values_labels\u001b[0m\u001b[0;34m(\u001b[0m\u001b[0mself\u001b[0m\u001b[0;34m)\u001b[0m\u001b[0;34m:\u001b[0m\u001b[0;34m\u001b[0m\u001b[0m\n",
      "\u001b[0;32m/Users/Jayant/anaconda/lib/python2.7/site-packages/pandas/core/reshape.pyc\u001b[0m in \u001b[0;36m_make_selectors\u001b[0;34m(self)\u001b[0m\n\u001b[1;32m    135\u001b[0m \u001b[0;34m\u001b[0m\u001b[0m\n\u001b[1;32m    136\u001b[0m         \u001b[0;32mif\u001b[0m \u001b[0mmask\u001b[0m\u001b[0;34m.\u001b[0m\u001b[0msum\u001b[0m\u001b[0;34m(\u001b[0m\u001b[0;34m)\u001b[0m \u001b[0;34m<\u001b[0m \u001b[0mlen\u001b[0m\u001b[0;34m(\u001b[0m\u001b[0mself\u001b[0m\u001b[0;34m.\u001b[0m\u001b[0mindex\u001b[0m\u001b[0;34m)\u001b[0m\u001b[0;34m:\u001b[0m\u001b[0;34m\u001b[0m\u001b[0m\n\u001b[0;32m--> 137\u001b[0;31m             raise ValueError('Index contains duplicate entries, '\n\u001b[0m\u001b[1;32m    138\u001b[0m                              'cannot reshape')\n\u001b[1;32m    139\u001b[0m \u001b[0;34m\u001b[0m\u001b[0m\n",
      "\u001b[0;31mValueError\u001b[0m: Index contains duplicate entries, cannot reshape"
     ]
    }
   ],
   "source": [
    "sagar.pivot(index= 'District',columns='Indicators',values='Total')"
   ]
  },
  {
   "cell_type": "code",
   "execution_count": 42,
   "metadata": {
    "collapsed": true
   },
   "outputs": [],
   "source": [
    "gwalior = read_pdf_table(\"Gwalior.pdf\", pages=\"3-5\")"
   ]
  },
  {
   "cell_type": "code",
   "execution_count": 43,
   "metadata": {
    "collapsed": false
   },
   "outputs": [],
   "source": [
    "gwalior_new = pd.DataFrame(gwalior[29:])"
   ]
  },
  {
   "cell_type": "code",
   "execution_count": 49,
   "metadata": {
    "collapsed": false
   },
   "outputs": [
    {
     "data": {
      "text/plain": [
       "3"
      ]
     },
     "execution_count": 49,
     "metadata": {},
     "output_type": "execute_result"
    }
   ],
   "source": [
    "len(gwalior_new.iloc[:,1].str.split(\" \").iloc[0])"
   ]
  },
  {
   "cell_type": "code",
   "execution_count": 109,
   "metadata": {
    "collapsed": true
   },
   "outputs": [],
   "source": [
    "indore = read_pdf_table(\"Indore.pdf\", pages=\"3-5\")"
   ]
  },
  {
   "cell_type": "code",
   "execution_count": 56,
   "metadata": {
    "collapsed": true
   },
   "outputs": [],
   "source": [
    "indore_new = pd.DataFrame(indore[29:])"
   ]
  },
  {
   "cell_type": "code",
   "execution_count": 57,
   "metadata": {
    "collapsed": false
   },
   "outputs": [
    {
     "data": {
      "text/plain": [
       "2"
      ]
     },
     "execution_count": 57,
     "metadata": {},
     "output_type": "execute_result"
    }
   ],
   "source": [
    "len(indore_new.iloc[:,1].str.split(\" \").iloc[0])"
   ]
  },
  {
   "cell_type": "code",
   "execution_count": 61,
   "metadata": {
    "collapsed": false
   },
   "outputs": [
    {
     "data": {
      "text/plain": [
       "True"
      ]
     },
     "execution_count": 61,
     "metadata": {},
     "output_type": "execute_result"
    }
   ],
   "source": [
    "\"Urban Rural Total\" in list(gwalior.iloc[:,1])"
   ]
  },
  {
   "cell_type": "code",
   "execution_count": 90,
   "metadata": {
    "collapsed": true
   },
   "outputs": [],
   "source": [
    "alirajpur = read_pdf_table(\"Alirajpur.pdf\", pages=\"3-5\")"
   ]
  },
  {
   "cell_type": "markdown",
   "metadata": {},
   "source": [
    "### Issue currently experiencing"
   ]
  },
  {
   "cell_type": "markdown",
   "metadata": {},
   "source": [
    "On change of pages, the heading of district type(Rural Urban, Rural Urban, is persisting). Need to find a way to filter it"
   ]
  },
  {
   "cell_type": "code",
   "execution_count": null,
   "metadata": {
    "collapsed": true
   },
   "outputs": [],
   "source": []
  }
 ],
 "metadata": {
  "kernelspec": {
   "display_name": "Python 2",
   "language": "python",
   "name": "python2"
  },
  "language_info": {
   "codemirror_mode": {
    "name": "ipython",
    "version": 2
   },
   "file_extension": ".py",
   "mimetype": "text/x-python",
   "name": "python",
   "nbconvert_exporter": "python",
   "pygments_lexer": "ipython2",
   "version": "2.7.11"
  }
 },
 "nbformat": 4,
 "nbformat_minor": 0
}
