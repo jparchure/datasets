{
 "cells": [
  {
   "cell_type": "code",
   "execution_count": 8,
   "metadata": {
    "collapsed": true
   },
   "outputs": [],
   "source": [
    "import csv\n",
    "import pandas as pd\n",
    "from tabula import read_pdf_table\n",
    "import os\n",
    "\n",
    "def file_extractor(directory, state, filename):\n",
    "    files = [f for f in os.listdir(directory) if os.path.isfile(f)]\n",
    "    #header = [\"State\",\"District\",\"DistrictType\", \"Indicators\",\"Urban\",\"Rural\", \"Total\"]\n",
    "    #myfile = open(filename, 'wb')\n",
    "    #wr = csv.writer(myfile)\n",
    "    #wr.writerow(header)\n",
    "    for f in files:\n",
    "        if f.endswith(\".pdf\"):\n",
    "            df=read_pdf_table(f,pages=\"3-5\")\n",
    "            parse_file(df,f[:-4],state,filename)"
   ]
  },
  {
   "cell_type": "code",
   "execution_count": 9,
   "metadata": {
    "collapsed": true
   },
   "outputs": [],
   "source": [
    "def parse_file(df,district,state,writefile):\n",
    "    newdata = pd.DataFrame(df[29:])\n",
    "    newdata = newdata.dropna(axis=0)\n",
    "    newdata.columns=[\"Indicators\", \"Type Total\"]\n",
    "    district_type=\"\"\n",
    "    \n",
    "    if \"Urban Total\" in list(newdata.iloc[:,1]):\n",
    "        district_type=\"Urban\"\n",
    "        newdata[\"Rural\"] = newdata[\"Type Total\"].dropna(axis=0).apply(lambda x: \"NA\")\n",
    "        newdata[\"Urban\"] = newdata[\"Type Total\"].str.split(\" \").dropna(axis=0).apply(lambda x: x[0])\n",
    "    elif \"Rural Total\" in list(newdata.iloc[:,1]):\n",
    "        district_type=\"Rural\"\n",
    "        newdata[\"Urban\"] = newdata[\"Type Total\"].dropna(axis=0).apply(lambda x: \"NA\")\n",
    "        newdata[\"Rural\"] = newdata[\"Type Total\"].str.split(\" \").dropna(axis=0).apply(lambda x: x[0])\n",
    "    elif \"Urban Rural Total\" in list(newdata.iloc[:,1]):\n",
    "        district_type=\"Urban Rural\"\n",
    "        newdata[\"Urban\"] = newdata[\"Type Total\"].str.split(\" \").dropna(axis=0).apply(lambda x: x[0])\n",
    "        newdata[\"Rural\"] = newdata[\"Type Total\"].str.split(\" \").dropna(axis=0).apply(lambda x: x[1])\n",
    "    else:\n",
    "        return(\"Error\")\n",
    "    \n",
    "    newdata[\"Total\"] = newdata[\"Type Total\"].str.split(\" \").dropna(axis=0).apply(lambda x: x[-1])\n",
    "\n",
    "    #Exclude the rows with the Indicator banner which denotes a new page\n",
    "    newdata = newdata[newdata['Indicators']!='Indicators']\n",
    "    newdata=  newdata[newdata['Type Total']!=district_type + \" Total\"]\n",
    "    \n",
    "    #Hard coded values to parse indicators that span multiple lines\n",
    "    truncated_value_indices = [33,34,35,38,46,59,60]\n",
    "    truncated_values=[\n",
    "    \"34. Registered pregnancies for which the mother received Mother and Child Protection(MCP) card (%)\",\n",
    "    \"35. Mothers who received postnatal care from a doctor/nurse/LHV/ANM/midwife/other health personnel within 2 days of delivery (%)\",\n",
    "    \"36. Mothers who received financial assistance under Janani Suraksha Yojana (JSY) for births delivered in an institution (%)\",\n",
    "    \"39. Children who received a health check after birth from a doctor/nurse/LHV/ANM/ midwife/other health personnel within 2 days of birth (%)\",\n",
    "    \"47. Children age 12-23 months fully immunized (BCG, measles, and 3 doses each of polio and DPT) (%)\",\n",
    "    \"60. Prevalence of symptoms of acute respiratory infection (ARI) in the last 2 weeks preceding the survey (%)\",\n",
    "    \"61. Children with fever or symptoms of ARI in the last 2 weeks preceding the survey taken to a health facility (%)\"\n",
    "    ]\n",
    "    \n",
    "    newdata[\"Indicators\"].iloc[truncated_value_indices] = truncated_values\n",
    "    \n",
    "    #Get rid of parentheses\n",
    "    newdata[\"Urban\"] = newdata[\"Urban\"].str.strip(\"()\")\n",
    "    newdata[\"Rural\"] = newdata[\"Rural\"].str.strip(\"()\")\n",
    "    newdata[\"Total\"] = newdata[\"Total\"].str.strip(\"()\")\n",
    "    \n",
    "    #Remove numbering\n",
    "    newdata['Indicators'] = newdata['Indicators'].str.split(\" \",1).apply(lambda x: x[1])\n",
    "    \n",
    "    newdata.drop([\"Type Total\"],axis=1, inplace=True)\n",
    "    \n",
    "    #Add geographical data\n",
    "    newdata[\"District\"] = district\n",
    "    newdata[\"State\"] = state\n",
    "    newdata[\"DistrictType\"] = district_type\n",
    "    \n",
    "    #Reorder columns\n",
    "    newdata=newdata[[\"State\",\"District\",\"DistrictType\", \"Indicators\",\"Urban\",\"Rural\", \"Total\"]]\n",
    "    \n",
    "    with open(writefile, 'a') as f:\n",
    "        newdata.to_csv(f, header=False,index=False)"
   ]
  },
  {
   "cell_type": "code",
   "execution_count": 10,
   "metadata": {
    "collapsed": true
   },
   "outputs": [],
   "source": [
    "file_extractor(\".\", \"Madhya Pradesh\", \"healthdata.csv\")"
   ]
  },
  {
   "cell_type": "code",
   "execution_count": null,
   "metadata": {
    "collapsed": true
   },
   "outputs": [],
   "source": []
  }
 ],
 "metadata": {
  "kernelspec": {
   "display_name": "Python 2",
   "language": "python",
   "name": "python2"
  },
  "language_info": {
   "codemirror_mode": {
    "name": "ipython",
    "version": 2
   },
   "file_extension": ".py",
   "mimetype": "text/x-python",
   "name": "python",
   "nbconvert_exporter": "python",
   "pygments_lexer": "ipython2",
   "version": "2.7.11"
  }
 },
 "nbformat": 4,
 "nbformat_minor": 0
}
